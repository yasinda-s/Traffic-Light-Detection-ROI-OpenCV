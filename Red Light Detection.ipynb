{
 "cells": [
  {
   "cell_type": "code",
   "execution_count": 7,
   "id": "38bf5ee3-2223-448e-94cf-47eadd4f07cd",
   "metadata": {},
   "outputs": [
    {
     "name": "stdout",
     "output_type": "stream",
     "text": [
      "Red Light Detected, dont go!\n",
      "Red Light Detected, dont go!\n",
      "Red Light Detected, dont go!\n",
      "Red Light Detected, dont go!\n",
      "Red Light Detected, dont go!\n",
      "Red Light Detected, dont go!\n",
      "Red Light Detected, dont go!\n",
      "Red Light Detected, dont go!\n",
      "Red Light Detected, dont go!\n",
      "Red Light Detected, dont go!\n",
      "Red Light Detected, dont go!\n",
      "Red Light Detected, dont go!\n",
      "Red Light Detected, dont go!\n",
      "Red Light Detected, dont go!\n",
      "Red Light Detected, dont go!\n",
      "Red Light Detected, dont go!\n",
      "Red Light Detected, dont go!\n",
      "Red Light Detected, dont go!\n",
      "Red Light Detected, dont go!\n",
      "Red Light Detected, dont go!\n",
      "Red Light Detected, dont go!\n",
      "Red Light Detected, dont go!\n",
      "Red Light Detected, dont go!\n",
      "Red Light Detected, dont go!\n",
      "Red Light Detected, dont go!\n",
      "Red Light Detected, dont go!\n",
      "Red Light Detected, dont go!\n",
      "Red Light Detected, dont go!\n",
      "Red Light Detected, dont go!\n",
      "Red Light Detected, dont go!\n",
      "Red Light Detected, dont go!\n",
      "Red Light Detected, dont go!\n",
      "Red Light Detected, dont go!\n"
     ]
    }
   ],
   "source": [
    "import cv2\n",
    "\n",
    "roi_x = 220\n",
    "roi_y = 300\n",
    "roi_width = 100\n",
    "roi_height = 80\n",
    "\n",
    "lower_red = (0, 0, 150)\n",
    "upper_red = (100, 100, 255)\n",
    "\n",
    "video_capture = cv2.VideoCapture('red_light.mp4')\n",
    "\n",
    "if not video_capture.isOpened():\n",
    "    print(\"Error: Could not open video file.\")\n",
    "    exit()\n",
    "\n",
    "while True:\n",
    "    #ret is bool to see if frame was obtained or not, frame is the actual frame from the video\n",
    "    ret, frame = video_capture.read()\n",
    "    if not ret:\n",
    "        break\n",
    "\n",
    "    #frame can be adjusted like a singular image using cv2 operations\n",
    "    frame = cv2.resize(frame, (500, 900))\n",
    "    cv2.imshow('Original', frame)\n",
    "    frame_with_ROI = frame.copy()\n",
    "    #to frame_with_ROI, add the ROI\n",
    "    cv2.rectangle(frame_with_ROI, (roi_x, roi_y), (roi_x + roi_width, roi_y + roi_height), (0, 0, 0), 2)\n",
    "    cv2.putText(frame_with_ROI, \"ROI\", (roi_x, roi_y - 10), cv2.FONT_HERSHEY_SIMPLEX, 0.5, (0, 255, 0), 2)\n",
    "    cv2.imshow('ROI', frame_with_ROI)\n",
    "\n",
    "    # extract the ROI\n",
    "    roi = frame[roi_y:roi_y + roi_height, roi_x:roi_x + roi_width]\n",
    "    #mask to get only red pixels\n",
    "    mask = cv2.inRange(roi, lower_red, upper_red)\n",
    "    #count number of pixels that survived the mask (red range)\n",
    "    num_red_pixels = cv2.countNonZero(mask)\n",
    "\n",
    "    if num_red_pixels > 0:\n",
    "        print(\"Red Light Detected, dont go!\")\n",
    "\n",
    "    #33 to make approximately 30 FPS\n",
    "    if cv2.waitKey(33) & 0xFF == ord('q'):\n",
    "        break\n",
    "\n",
    "video_capture.release()\n",
    "cv2.destroyAllWindows()"
   ]
  },
  {
   "cell_type": "code",
   "execution_count": null,
   "id": "505b806f-611f-4a3b-9cf7-7c5b25972a50",
   "metadata": {},
   "outputs": [],
   "source": []
  }
 ],
 "metadata": {
  "kernelspec": {
   "display_name": "Python 3 (ipykernel)",
   "language": "python",
   "name": "python3"
  },
  "language_info": {
   "codemirror_mode": {
    "name": "ipython",
    "version": 3
   },
   "file_extension": ".py",
   "mimetype": "text/x-python",
   "name": "python",
   "nbconvert_exporter": "python",
   "pygments_lexer": "ipython3",
   "version": "3.9.17"
  }
 },
 "nbformat": 4,
 "nbformat_minor": 5
}
